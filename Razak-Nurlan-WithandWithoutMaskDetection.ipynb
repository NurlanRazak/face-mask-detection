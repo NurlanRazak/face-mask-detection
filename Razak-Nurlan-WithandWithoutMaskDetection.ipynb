{
 "cells": [
  {
   "cell_type": "markdown",
   "metadata": {},
   "source": [
    "# Mask Detection using MobilenetV2"
   ]
  },
  {
   "cell_type": "markdown",
   "metadata": {},
   "source": [
    "Here is a step by step guide to make a classifier that can classify the faces as wearing mask, not wearing a mask and not wearing a mask properly."
   ]
  },
  {
   "cell_type": "markdown",
   "metadata": {},
   "source": [
    "The biggest challenge is here to convert the available data to the form we can use it. It is going to take most of our time.So let us explore the data. Our dataset contains two folders, one having images and other having annotations.Since each of these images contain multiple persons which are either wearing a mask or not weraing it or not wearing it properly, we need to get these faces out of the images."
   ]
  },
  {
   "cell_type": "markdown",
   "metadata": {},
   "source": [
    "The annotations file of each file will help in that as it contains information about where the face it and under which category does  it fall"
   ]
  },
  {
   "cell_type": "markdown",
   "metadata": {},
   "source": [
    "So here a brief summary of what we are going to do here\n",
    "1. First we are going to go through all the annotations file and parse the information using beautifulsoap.Later we are going to make a list which contains a dictionary having information about coordinates of faces and the labels of each face. \n",
    "2. Next we will use opencv to read the image , extract the face ares from it, preprocess it and save it to a list.We are going to save the labels simuntaneosly in another list\n",
    "3. Now we will finetune the MobilenetV2 model and get the results.\n",
    "\n",
    "Also to know how to  use this model to detect the masks in real time on a webcam feed, follow the article [Mask detection using openCV](https://www.mygreatlearning.com/blog/real-time-face-detection).\n",
    "\n",
    "\n"
   ]
  },
  {
   "cell_type": "code",
   "execution_count": 33,
   "metadata": {
    "_cell_guid": "b1076dfc-b9ad-4769-8c92-a6c4dae69d19",
    "_uuid": "8f2839f25d086af736a60e9eeb907d3b93b6e0e5"
   },
   "outputs": [],
   "source": [
    "# This Python 3 environment comes with many helpful analytics libraries installed\n",
    "# It is defined by the kaggle/python Docker image: https://github.com/kaggle/docker-python\n",
    "# For example, here's several helpful packages to load\n",
    "\n",
    "import numpy as np # linear algebra\n",
    "import pandas as pd # data processing, CSV file I/O (e.g. pd.read_csv)\n",
    "\n",
    "# Input data files are available in the read-ёonly \"../input/\" directory\n",
    "# For example, running this (by clicking run or pressing Shift+Enter) will list all files under the input directory\n",
    "\n",
    "import os\n",
    "for dirname, _, filenames in os.walk('/kaggle/input'):\n",
    "    for filename in filenames:\n",
    "        print(os.path.join(dirname, filename))\n",
    "\n",
    "# You can write up to 5GB to the current directory (/kaggle/working/) that gets preserved as output when you create a version using \"Save & Run All\" \n",
    "# You can also write temporary files to /kaggle/temp/, but they won't be saved outside of the current session"
   ]
  },
  {
   "cell_type": "code",
   "execution_count": 34,
   "metadata": {},
   "outputs": [],
   "source": [
    "#import the libraries\n",
    "import numpy as np\n",
    "import pandas as pd \n",
    "from bs4 import BeautifulSoup\n",
    "import matplotlib.pyplot as plt\n",
    "import os\n",
    "from tensorflow.keras.preprocessing.image import ImageDataGenerator\n",
    "from tensorflow.keras.applications import MobileNetV2\n",
    "from tensorflow.keras.layers import AveragePooling2D\n",
    "from tensorflow.keras.layers import Dropout,BatchNormalization\n",
    "from tensorflow.keras.layers import Flatten\n",
    "from tensorflow.keras.layers import Dense\n",
    "from tensorflow.keras.layers import Input\n",
    "from tensorflow.keras.models import Model\n",
    "from tensorflow.keras.optimizers import Adam\n",
    "from tensorflow.keras.applications.mobilenet_v2 import preprocess_input\n",
    "from tensorflow.keras.preprocessing.image import img_to_array\n",
    "from tensorflow.keras.preprocessing.image import load_img\n",
    "from tensorflow.keras.utils import to_categorical\n",
    "from sklearn.preprocessing import LabelEncoder\n",
    "from sklearn.model_selection import train_test_split\n",
    "from sklearn.metrics import classification_report\n",
    "import matplotlib.pyplot as plt\n",
    "import cv2\n",
    "import random as rand"
   ]
  },
  {
   "cell_type": "code",
   "execution_count": 35,
   "metadata": {},
   "outputs": [],
   "source": [
    "# Defiine functions that performs task 1 mentioned above\n",
    "\n",
    "#This function will get the coordinates of face given in the annotations file\n",
    "# the coordinates of lower left corner and upper right corner\n",
    "def generate_box(obj):  \n",
    "    xmin = int(obj.find('xmin').text)\n",
    "    ymin = int(obj.find('ymin').text)\n",
    "    xmax = int(obj.find('xmax').text)\n",
    "    ymax = int(obj.find('ymax').text)\n",
    "    \n",
    "    return [xmin, ymin, xmax, ymax]\n",
    "#This function will give label assciated with each label and convert them to numbers\n",
    "def generate_label(obj):\n",
    "    if obj.find('name').text == \"with_mask\":\n",
    "        return 1\n",
    "    elif obj.find('name').text == \"mask_weared_incorrect\":\n",
    "        return 2\n",
    "    return 0\n",
    "#Using in this main function we parse the annotations file and get the objects out from them\n",
    "# Also we use the above two functions here \n",
    "def generate_target(image_id, file): \n",
    "    with open(file) as f:\n",
    "        data = f.read()\n",
    "        soup = BeautifulSoup(data, 'xml')\n",
    "        objects = soup.find_all('object')\n",
    "\n",
    "        num_objs = len(objects)\n",
    "\n",
    "        boxes = []\n",
    "        labels = []\n",
    "        for i in objects:\n",
    "            boxes.append(generate_box(i))\n",
    "            labels.append(generate_label(i))\n",
    "            \n",
    "        boxes=np.array(boxes)\n",
    "        labels=np.array(labels)\n",
    "\n",
    "        img_id = np.array(image_id)\n",
    "    # Annotation is in dictionary format\n",
    "        target = {}\n",
    "        target[\"boxes\"] = boxes\n",
    "        target[\"labels\"] = labels\n",
    "        \n",
    "        return (target,num_objs)"
   ]
  },
  {
   "cell_type": "code",
   "execution_count": 37,
   "metadata": {},
   "outputs": [
    {
     "data": {
      "text/plain": [
       "['-',\n",
       " '-',\n",
       " '/',\n",
       " '/',\n",
       " '/',\n",
       " '/',\n",
       " 'a',\n",
       " 'a',\n",
       " 'a',\n",
       " 'a',\n",
       " 'c',\n",
       " 'c',\n",
       " 'd',\n",
       " 'e',\n",
       " 'e',\n",
       " 'e',\n",
       " 'e',\n",
       " 'e',\n",
       " 'f',\n",
       " 'g',\n",
       " 'g',\n",
       " 'g',\n",
       " 'i',\n",
       " 'i',\n",
       " 'i',\n",
       " 'k',\n",
       " 'k',\n",
       " 'l',\n",
       " 'm',\n",
       " 'm',\n",
       " 'n',\n",
       " 'n',\n",
       " 'o',\n",
       " 'p',\n",
       " 's',\n",
       " 's',\n",
       " 't',\n",
       " 't',\n",
       " 't',\n",
       " 'u']"
      ]
     },
     "execution_count": 37,
     "metadata": {},
     "output_type": "execute_result"
    }
   ],
   "source": [
    "imgs = list(sorted(os.path.join(\"/kaggle/input/face-mask-detection/images\")))\n",
    "# imgs=os.path.join(\"/kaggle/input/face-mask-detection/images\")\n",
    "len(imgs)\n",
    "imgs"
   ]
  },
  {
   "cell_type": "code",
   "execution_count": 38,
   "metadata": {},
   "outputs": [],
   "source": [
    "labels = list(sorted(os.path.join(\"/kaggle/input/face-mask-detection/annotations/\")))\n",
    "# labels=os.path.join(\"/kaggle/input/face-mask-detection/annotations\")"
   ]
  },
  {
   "cell_type": "code",
   "execution_count": 39,
   "metadata": {},
   "outputs": [
    {
     "data": {
      "text/plain": [
       "['-',\n",
       " '-',\n",
       " '/',\n",
       " '/',\n",
       " '/',\n",
       " '/',\n",
       " '/',\n",
       " 'a',\n",
       " 'a',\n",
       " 'a',\n",
       " 'a',\n",
       " 'a',\n",
       " 'c',\n",
       " 'c',\n",
       " 'd',\n",
       " 'e',\n",
       " 'e',\n",
       " 'e',\n",
       " 'e',\n",
       " 'f',\n",
       " 'g',\n",
       " 'g',\n",
       " 'i',\n",
       " 'i',\n",
       " 'i',\n",
       " 'k',\n",
       " 'k',\n",
       " 'l',\n",
       " 'm',\n",
       " 'n',\n",
       " 'n',\n",
       " 'n',\n",
       " 'n',\n",
       " 'n',\n",
       " 'o',\n",
       " 'o',\n",
       " 'o',\n",
       " 'p',\n",
       " 's',\n",
       " 's',\n",
       " 't',\n",
       " 't',\n",
       " 't',\n",
       " 't',\n",
       " 't',\n",
       " 'u']"
      ]
     },
     "execution_count": 39,
     "metadata": {},
     "output_type": "execute_result"
    }
   ],
   "source": [
    "labels"
   ]
  },
  {
   "cell_type": "code",
   "execution_count": 41,
   "metadata": {},
   "outputs": [
    {
     "ename": "FileNotFoundError",
     "evalue": "[Errno 2] No such file or directory: '/kaggle/input/face-mask-detection/annotations/maksssksksss0.xml'",
     "output_type": "error",
     "traceback": [
      "\u001b[0;31m---------------------------------------------------------------------------\u001b[0m",
      "\u001b[0;31mFileNotFoundError\u001b[0m                         Traceback (most recent call last)",
      "\u001b[0;32m<ipython-input-41-0317ed4966dd>\u001b[0m in \u001b[0;36m<module>\u001b[0;34m\u001b[0m\n\u001b[1;32m      9\u001b[0m     \u001b[0mlabel_path\u001b[0m \u001b[0;34m=\u001b[0m \u001b[0mos\u001b[0m\u001b[0;34m.\u001b[0m\u001b[0mpath\u001b[0m\u001b[0;34m.\u001b[0m\u001b[0mjoin\u001b[0m\u001b[0;34m(\u001b[0m\u001b[0;34m\"/kaggle/input/face-mask-detection/annotations\"\u001b[0m\u001b[0;34m,\u001b[0m \u001b[0mfile_label\u001b[0m\u001b[0;34m)\u001b[0m\u001b[0;34m\u001b[0m\u001b[0;34m\u001b[0m\u001b[0m\n\u001b[1;32m     10\u001b[0m     \u001b[0;31m#Generate Label\u001b[0m\u001b[0;34m\u001b[0m\u001b[0;34m\u001b[0m\u001b[0;34m\u001b[0m\u001b[0m\n\u001b[0;32m---> 11\u001b[0;31m     \u001b[0mtarget\u001b[0m\u001b[0;34m,\u001b[0m\u001b[0mnumobj\u001b[0m \u001b[0;34m=\u001b[0m \u001b[0mgenerate_target\u001b[0m\u001b[0;34m(\u001b[0m\u001b[0mi\u001b[0m\u001b[0;34m,\u001b[0m \u001b[0mlabel_path\u001b[0m\u001b[0;34m)\u001b[0m\u001b[0;34m\u001b[0m\u001b[0;34m\u001b[0m\u001b[0m\n\u001b[0m\u001b[1;32m     12\u001b[0m     \u001b[0mtargets\u001b[0m\u001b[0;34m.\u001b[0m\u001b[0mappend\u001b[0m\u001b[0;34m(\u001b[0m\u001b[0mtarget\u001b[0m\u001b[0;34m)\u001b[0m\u001b[0;34m\u001b[0m\u001b[0;34m\u001b[0m\u001b[0m\n\u001b[1;32m     13\u001b[0m     \u001b[0mnumobjs\u001b[0m\u001b[0;34m.\u001b[0m\u001b[0mappend\u001b[0m\u001b[0;34m(\u001b[0m\u001b[0mnumobj\u001b[0m\u001b[0;34m)\u001b[0m\u001b[0;34m\u001b[0m\u001b[0;34m\u001b[0m\u001b[0m\n",
      "\u001b[0;32m<ipython-input-35-9301d66f063e>\u001b[0m in \u001b[0;36mgenerate_target\u001b[0;34m(image_id, file)\u001b[0m\n\u001b[1;32m     20\u001b[0m \u001b[0;31m# Also we use the above two functions here\u001b[0m\u001b[0;34m\u001b[0m\u001b[0;34m\u001b[0m\u001b[0;34m\u001b[0m\u001b[0m\n\u001b[1;32m     21\u001b[0m \u001b[0;32mdef\u001b[0m \u001b[0mgenerate_target\u001b[0m\u001b[0;34m(\u001b[0m\u001b[0mimage_id\u001b[0m\u001b[0;34m,\u001b[0m \u001b[0mfile\u001b[0m\u001b[0;34m)\u001b[0m\u001b[0;34m:\u001b[0m\u001b[0;34m\u001b[0m\u001b[0;34m\u001b[0m\u001b[0m\n\u001b[0;32m---> 22\u001b[0;31m     \u001b[0;32mwith\u001b[0m \u001b[0mopen\u001b[0m\u001b[0;34m(\u001b[0m\u001b[0mfile\u001b[0m\u001b[0;34m)\u001b[0m \u001b[0;32mas\u001b[0m \u001b[0mf\u001b[0m\u001b[0;34m:\u001b[0m\u001b[0;34m\u001b[0m\u001b[0;34m\u001b[0m\u001b[0m\n\u001b[0m\u001b[1;32m     23\u001b[0m         \u001b[0mdata\u001b[0m \u001b[0;34m=\u001b[0m \u001b[0mf\u001b[0m\u001b[0;34m.\u001b[0m\u001b[0mread\u001b[0m\u001b[0;34m(\u001b[0m\u001b[0;34m)\u001b[0m\u001b[0;34m\u001b[0m\u001b[0;34m\u001b[0m\u001b[0m\n\u001b[1;32m     24\u001b[0m         \u001b[0msoup\u001b[0m \u001b[0;34m=\u001b[0m \u001b[0mBeautifulSoup\u001b[0m\u001b[0;34m(\u001b[0m\u001b[0mdata\u001b[0m\u001b[0;34m,\u001b[0m \u001b[0;34m'xml'\u001b[0m\u001b[0;34m)\u001b[0m\u001b[0;34m\u001b[0m\u001b[0;34m\u001b[0m\u001b[0m\n",
      "\u001b[0;31mFileNotFoundError\u001b[0m: [Errno 2] No such file or directory: '/kaggle/input/face-mask-detection/annotations/maksssksksss0.xml'"
     ]
    }
   ],
   "source": [
    "# Here we use the above functions and save results in lists\n",
    "targets=[]#store coordinates\n",
    "numobjs=[]#stores number of faces in each image\n",
    "#run the loop for number of images we have\n",
    "for i in range(853):\n",
    "    file_image = 'maksssksksss'+ str(i) + '.png'\n",
    "    file_label = 'maksssksksss'+ str(i) + '.xml'\n",
    "    img_path = os.path.join(\"/kaggle/input/face-mask-detection/images/\", file_image)\n",
    "    label_path = os.path.join(\"/kaggle/input/face-mask-detection/annotations\", file_label)\n",
    "    #Generate Label\n",
    "    target,numobj = generate_target(i, label_path)\n",
    "    targets.append(target)\n",
    "    numobjs.append(numobj)\n",
    "    "
   ]
  },
  {
   "cell_type": "code",
   "execution_count": 19,
   "metadata": {},
   "outputs": [
    {
     "ename": "IndexError",
     "evalue": "list index out of range",
     "output_type": "error",
     "traceback": [
      "\u001b[0;31m---------------------------------------------------------------------------\u001b[0m",
      "\u001b[0;31mIndexError\u001b[0m                                Traceback (most recent call last)",
      "\u001b[0;32m<ipython-input-19-b65897e8131a>\u001b[0m in \u001b[0;36m<module>\u001b[0;34m\u001b[0m\n\u001b[1;32m     10\u001b[0m     \u001b[0;31m#read image\u001b[0m\u001b[0;34m\u001b[0m\u001b[0;34m\u001b[0m\u001b[0;34m\u001b[0m\u001b[0m\n\u001b[1;32m     11\u001b[0m     \u001b[0mimg\u001b[0m \u001b[0;34m=\u001b[0m \u001b[0mcv2\u001b[0m\u001b[0;34m.\u001b[0m\u001b[0mimread\u001b[0m\u001b[0;34m(\u001b[0m\u001b[0mimg_path\u001b[0m\u001b[0;34m)\u001b[0m\u001b[0;34m\u001b[0m\u001b[0;34m\u001b[0m\u001b[0m\n\u001b[0;32m---> 12\u001b[0;31m     \u001b[0;32mfor\u001b[0m \u001b[0mj\u001b[0m \u001b[0;32min\u001b[0m \u001b[0mrange\u001b[0m\u001b[0;34m(\u001b[0m\u001b[0mnumobjs\u001b[0m\u001b[0;34m[\u001b[0m\u001b[0mi\u001b[0m\u001b[0;34m]\u001b[0m\u001b[0;34m)\u001b[0m\u001b[0;34m:\u001b[0m\u001b[0;34m\u001b[0m\u001b[0;34m\u001b[0m\u001b[0m\n\u001b[0m\u001b[1;32m     13\u001b[0m \u001b[0;31m#       get coordinates of ith image in list\u001b[0m\u001b[0;34m\u001b[0m\u001b[0;34m\u001b[0m\u001b[0;34m\u001b[0m\u001b[0m\n\u001b[1;32m     14\u001b[0m         \u001b[0mlocs\u001b[0m\u001b[0;34m=\u001b[0m\u001b[0;34m(\u001b[0m\u001b[0mtargets\u001b[0m\u001b[0;34m[\u001b[0m\u001b[0mi\u001b[0m\u001b[0;34m]\u001b[0m\u001b[0;34m[\u001b[0m\u001b[0;34m'boxes'\u001b[0m\u001b[0;34m]\u001b[0m\u001b[0;34m[\u001b[0m\u001b[0mj\u001b[0m\u001b[0;34m]\u001b[0m\u001b[0;34m)\u001b[0m\u001b[0;34m\u001b[0m\u001b[0;34m\u001b[0m\u001b[0m\n",
      "\u001b[0;31mIndexError\u001b[0m: list index out of range"
     ]
    }
   ],
   "source": [
    "#In this step we carry forward the second step mentioned above.\n",
    "import cv2\n",
    "import matplotlib.pyplot as plt\n",
    "from tensorflow.keras.applications.mobilenet_v2 import preprocess_input\n",
    "from tensorflow.keras.preprocessing.image import img_to_array\n",
    "face_images=[]\n",
    "face_labels=[]\n",
    "for i in range(853):\n",
    "    img_path = r\"../input/face-mask-detection/images/maksssksksss{}.png\".format(i)\n",
    "    #read image\n",
    "    img = cv2.imread(img_path)\n",
    "    for j in range(numobjs[i]):\n",
    "#       get coordinates of ith image in list \n",
    "        locs=(targets[i]['boxes'][j])\n",
    "#     Get the face from the image using the coordinates\n",
    "#the arguments are as ymin , ymax and xmin xmax\n",
    "        img1=img[locs[1]:locs[3],locs[0]:locs[2]]\n",
    "        img1 = cv2.resize(img1, (224, 224))\n",
    "        img1 = img_to_array(img1)\n",
    "        img1 = preprocess_input(img1)\n",
    "        face_images.append(img1)\n",
    "        face_labels.append(targets[i]['labels'][j])\n",
    "\n",
    "face_images= np.array(face_images, dtype=\"float32\")\n",
    "face_labels = np.array(face_labels)\n",
    "\n"
   ]
  },
  {
   "cell_type": "markdown",
   "metadata": {},
   "source": [
    "Next we check total number of faces detected and how many belong to each class. We see that the images in which mask is woren properly are really less. We will increase their weight when training the model."
   ]
  },
  {
   "cell_type": "code",
   "execution_count": 35,
   "metadata": {},
   "outputs": [
    {
     "data": {
      "text/plain": [
       "4072"
      ]
     },
     "execution_count": 35,
     "metadata": {},
     "output_type": "execute_result"
    }
   ],
   "source": [
    "len(face_labels)"
   ]
  },
  {
   "cell_type": "code",
   "execution_count": 36,
   "metadata": {},
   "outputs": [
    {
     "data": {
      "text/plain": [
       "{0: 717, 1: 3232, 2: 123}"
      ]
     },
     "execution_count": 36,
     "metadata": {},
     "output_type": "execute_result"
    }
   ],
   "source": [
    "unique, counts = np.unique(face_labels, return_counts=True)\n",
    "dict(zip(unique, counts))"
   ]
  },
  {
   "cell_type": "code",
   "execution_count": 38,
   "metadata": {},
   "outputs": [
    {
     "data": {
      "text/plain": [
       "array([[1., 0., 0.],\n",
       "       [0., 1., 0.],\n",
       "       [1., 0., 0.],\n",
       "       ...,\n",
       "       [0., 1., 0.],\n",
       "       [0., 1., 0.],\n",
       "       [1., 0., 0.]], dtype=float32)"
      ]
     },
     "execution_count": 38,
     "metadata": {},
     "output_type": "execute_result"
    }
   ],
   "source": [
    "#Encode the labels in one hot encode form\n",
    "lb = LabelEncoder()\n",
    "labels = lb.fit_transform(face_labels)\n",
    "labels = to_categorical(labels)\n",
    "labels"
   ]
  },
  {
   "cell_type": "code",
   "execution_count": 39,
   "metadata": {},
   "outputs": [],
   "source": [
    "#Perform data augmentation.\n",
    "aug = ImageDataGenerator(\n",
    "    zoom_range=0.1,\n",
    "    rotation_range=25,\n",
    "    width_shift_range=0.1,\n",
    "    height_shift_range=0.1,\n",
    "    shear_range=0.15,\n",
    "    horizontal_flip=True,\n",
    "    fill_mode=\"nearest\"\n",
    "    )"
   ]
  },
  {
   "cell_type": "code",
   "execution_count": 2,
   "metadata": {},
   "outputs": [
    {
     "name": "stdout",
     "output_type": "stream",
     "text": [
      "Downloading data from https://storage.googleapis.com/tensorflow/keras-applications/mobilenet_v2/mobilenet_v2_weights_tf_dim_ordering_tf_kernels_1.0_224_no_top.h5\n",
      "9412608/9406464 [==============================] - 61s 6us/step\n"
     ]
    }
   ],
   "source": [
    "#define the model\n",
    "baseModel = MobileNetV2(weights=\"imagenet\", include_top=False,\n",
    "\tinput_shape=(224, 224, 3))\n",
    "\n",
    "# construct the head of the model that will be placed on top of the\n",
    "# the base model\n",
    "headModel = baseModel.output\n",
    "headModel = AveragePooling2D(pool_size=(7, 7))(headModel)\n",
    "headModel = Flatten(name=\"flatten\")(headModel)\n",
    "headModel = Dense(256, activation=\"relu\")(headModel)\n",
    "headModel = Dropout(0.25)(headModel)\n",
    "headModel = Dense(3, activation=\"softmax\")(headModel)\n",
    "\n",
    "# place the head FC model on top of the base model (this will become\n",
    "# the actual model we will train)\n",
    "model = Model(inputs=baseModel.input, outputs=headModel)\n",
    "\n",
    "# loop over all layers in the base model and freeze them so they will\n",
    "# *not* be updated during the first training process\n",
    "for layer in baseModel.layers:\n",
    "\tlayer.trainable = False"
   ]
  },
  {
   "cell_type": "code",
   "execution_count": 77,
   "metadata": {},
   "outputs": [],
   "source": [
    "#define the hyperparamets for traing te neural network\n",
    "INIT_LR = 1e-4\n",
    "EPOCHS = 20\n",
    "BS = 32"
   ]
  },
  {
   "cell_type": "code",
   "execution_count": 43,
   "metadata": {},
   "outputs": [],
   "source": [
    "#divide data into training and testing sets\n",
    "(trainX, testX, trainY, testY) = train_test_split(face_images, labels,\n",
    "\ttest_size=0.2, stratify=labels, random_state=42)"
   ]
  },
  {
   "cell_type": "code",
   "execution_count": 44,
   "metadata": {},
   "outputs": [],
   "source": [
    "#Free some space.I did this tep as the notebook was running out of space while training\n",
    "del targets,face_images,face_labels"
   ]
  },
  {
   "cell_type": "code",
   "execution_count": 83,
   "metadata": {},
   "outputs": [
    {
     "name": "stdout",
     "output_type": "stream",
     "text": [
      "[INFO] compiling model...\n",
      "[INFO] training head...\n",
      "Epoch 1/20\n",
      "101/101 [==============================] - 38s 381ms/step - loss: 1.6725 - accuracy: 0.6933 - val_loss: 0.6502 - val_accuracy: 0.7202\n",
      "Epoch 2/20\n",
      "101/101 [==============================] - 36s 359ms/step - loss: 1.2593 - accuracy: 0.7848 - val_loss: 0.4817 - val_accuracy: 0.8147\n",
      "Epoch 3/20\n",
      "101/101 [==============================] - 37s 368ms/step - loss: 1.1238 - accuracy: 0.8096 - val_loss: 0.4941 - val_accuracy: 0.8135\n",
      "Epoch 4/20\n",
      "101/101 [==============================] - 36s 356ms/step - loss: 1.0348 - accuracy: 0.8220 - val_loss: 0.5078 - val_accuracy: 0.8123\n",
      "Epoch 5/20\n",
      "101/101 [==============================] - 36s 355ms/step - loss: 0.9835 - accuracy: 0.8391 - val_loss: 0.5005 - val_accuracy: 0.8049\n",
      "Epoch 6/20\n",
      "101/101 [==============================] - 36s 357ms/step - loss: 0.9440 - accuracy: 0.8338 - val_loss: 0.3574 - val_accuracy: 0.8650\n",
      "Epoch 7/20\n",
      "101/101 [==============================] - 36s 359ms/step - loss: 0.8449 - accuracy: 0.8617 - val_loss: 0.3647 - val_accuracy: 0.8564\n",
      "Epoch 8/20\n",
      "101/101 [==============================] - 36s 361ms/step - loss: 0.7880 - accuracy: 0.8722 - val_loss: 0.3492 - val_accuracy: 0.8552\n",
      "Epoch 9/20\n",
      "101/101 [==============================] - 37s 368ms/step - loss: 0.7771 - accuracy: 0.8639 - val_loss: 0.3364 - val_accuracy: 0.8724\n",
      "Epoch 10/20\n",
      "101/101 [==============================] - 36s 357ms/step - loss: 0.7677 - accuracy: 0.8701 - val_loss: 0.4293 - val_accuracy: 0.8270\n",
      "Epoch 11/20\n",
      "101/101 [==============================] - 38s 375ms/step - loss: 0.7657 - accuracy: 0.8713 - val_loss: 0.4624 - val_accuracy: 0.8184\n",
      "Epoch 12/20\n",
      "101/101 [==============================] - 36s 356ms/step - loss: 0.7811 - accuracy: 0.8819 - val_loss: 0.4813 - val_accuracy: 0.8025\n",
      "Epoch 13/20\n",
      "101/101 [==============================] - 37s 367ms/step - loss: 0.6744 - accuracy: 0.8769 - val_loss: 0.3461 - val_accuracy: 0.8552\n",
      "Epoch 14/20\n",
      "101/101 [==============================] - 37s 369ms/step - loss: 0.6984 - accuracy: 0.8878 - val_loss: 0.3386 - val_accuracy: 0.8577\n",
      "Epoch 15/20\n",
      "101/101 [==============================] - 36s 359ms/step - loss: 0.6704 - accuracy: 0.8909 - val_loss: 0.4211 - val_accuracy: 0.8233\n",
      "Epoch 16/20\n",
      "101/101 [==============================] - 37s 364ms/step - loss: 0.6301 - accuracy: 0.8887 - val_loss: 0.4157 - val_accuracy: 0.8294\n",
      "Epoch 17/20\n",
      "101/101 [==============================] - 37s 363ms/step - loss: 0.6430 - accuracy: 0.8893 - val_loss: 0.3470 - val_accuracy: 0.8552\n",
      "Epoch 18/20\n",
      "101/101 [==============================] - 36s 360ms/step - loss: 0.6869 - accuracy: 0.8806 - val_loss: 0.3523 - val_accuracy: 0.8577\n",
      "Epoch 19/20\n",
      "101/101 [==============================] - 37s 366ms/step - loss: 0.6080 - accuracy: 0.8936 - val_loss: 0.3991 - val_accuracy: 0.8356\n",
      "Epoch 20/20\n",
      "101/101 [==============================] - 36s 358ms/step - loss: 0.6163 - accuracy: 0.8927 - val_loss: 0.3473 - val_accuracy: 0.8540\n"
     ]
    }
   ],
   "source": [
    "#Complie the model and train it\n",
    "opt = Adam(lr=INIT_LR, decay=INIT_LR / EPOCHS)\n",
    "model.compile(loss=\"categorical_crossentropy\", optimizer=opt,\n",
    "\tmetrics=[\"accuracy\"])\n",
    "\n",
    "# train the head of the network\n",
    "H = model.fit(\n",
    "\taug.flow(trainX, trainY, batch_size=BS),\n",
    "\tsteps_per_epoch=len(trainX) // BS,\n",
    "\tvalidation_data=(testX, testY),\n",
    "\tvalidation_steps=len(testX) // BS,\n",
    "\tepochs=EPOCHS,\n",
    "class_weight = {0:5 , 1:1, 2:10}) #Here we sets weights to each class. \n",
    "#Class having high weight will be considered more importat while training"
   ]
  },
  {
   "cell_type": "markdown",
   "metadata": {},
   "source": [
    "The next step is o evaluate the model and plot the graphs showing the learning process.In the plot we can see when the the training stopped,the model was still improving, thus we save the model and train it again from the point we left."
   ]
  },
  {
   "cell_type": "code",
   "execution_count": 85,
   "metadata": {},
   "outputs": [
    {
     "name": "stdout",
     "output_type": "stream",
     "text": [
      "[INFO] evaluating network...\n",
      "              precision    recall  f1-score   support\n",
      "\n",
      "           0       0.62      0.92      0.74       143\n",
      "           1       0.97      0.85      0.91       647\n",
      "           2       0.39      0.48      0.43        25\n",
      "\n",
      "    accuracy                           0.85       815\n",
      "   macro avg       0.66      0.75      0.69       815\n",
      "weighted avg       0.89      0.85      0.86       815\n",
      "\n"
     ]
    },
    {
     "data": {
      "image/png": "[encoded data removed]",
      "text/plain": [
       "<Figure size 432x288 with 1 Axes>"
      ]
     },
     "metadata": {},
     "output_type": "display_data"
    }
   ],
   "source": [
    "print(\"[INFO] evaluating network...\")\n",
    "predIdxs = model.predict(testX, batch_size=32)\n",
    "\n",
    "# for each image in the testing set we need to find the index of the\n",
    "# label with corresponding largest predicted probability\n",
    "predIdxs = np.argmax(predIdxs, axis=1)\n",
    "\n",
    "# show a nicely formatted classification report\n",
    "print(classification_report(testY.argmax(axis=1), predIdxs\n",
    "\t))\n",
    "\n",
    "# # serialize the model to disk\n",
    "# print(\"[INFO] saving mask detector model...\")\n",
    "\n",
    "# plot the training loss and accuracy\n",
    "N = EPOCHS\n",
    "plt.style.use(\"ggplot\")\n",
    "plt.figure()\n",
    "plt.plot(np.arange(0, N), H.history[\"loss\"], label=\"train_loss\")\n",
    "plt.plot(np.arange(0, N), H.history[\"val_loss\"], label=\"val_loss\")\n",
    "plt.plot(np.arange(0, N), H.history[\"accuracy\"], label=\"train_acc\")\n",
    "plt.plot(np.arange(0, N), H.history[\"val_accuracy\"], label=\"val_acc\")\n",
    "plt.title(\"Training Loss and Accuracy\")\n",
    "plt.xlabel(\"Epoch #\")\n",
    "plt.ylabel(\"Loss/Accuracy\")\n",
    "plt.legend(loc=\"lower left\")\n",
    "plt.show()"
   ]
  },
  {
   "cell_type": "code",
   "execution_count": 95,
   "metadata": {},
   "outputs": [],
   "source": [
    "#save the model and name it as you wish.\n",
    "model.save('kaggle1.h5')"
   ]
  },
  {
   "cell_type": "code",
   "execution_count": 92,
   "metadata": {},
   "outputs": [],
   "source": [
    "#load the saved model\n",
    "import keras\n",
    "model = keras.models.load_model('kaggle1.h5')"
   ]
  },
  {
   "cell_type": "code",
   "execution_count": 93,
   "metadata": {},
   "outputs": [
    {
     "name": "stdout",
     "output_type": "stream",
     "text": [
      "[INFO] compiling model...\n",
      "[INFO] training head...\n",
      "Epoch 1/20\n",
      "101/101 [==============================] - 39s 390ms/step - loss: 0.4797 - accuracy: 0.9212 - val_loss: 0.2948 - val_accuracy: 0.8810\n",
      "Epoch 2/20\n",
      "101/101 [==============================] - 38s 375ms/step - loss: 0.3979 - accuracy: 0.9287 - val_loss: 0.2963 - val_accuracy: 0.8859\n",
      "Epoch 3/20\n",
      "101/101 [==============================] - 37s 363ms/step - loss: 0.4303 - accuracy: 0.9240 - val_loss: 0.2703 - val_accuracy: 0.8920\n",
      "Epoch 4/20\n",
      "101/101 [==============================] - 38s 380ms/step - loss: 0.4262 - accuracy: 0.9231 - val_loss: 0.2441 - val_accuracy: 0.9031\n",
      "Epoch 5/20\n",
      "101/101 [==============================] - 37s 362ms/step - loss: 0.4215 - accuracy: 0.9262 - val_loss: 0.3042 - val_accuracy: 0.8785\n",
      "Epoch 6/20\n",
      "101/101 [==============================] - 37s 366ms/step - loss: 0.4456 - accuracy: 0.9222 - val_loss: 0.3471 - val_accuracy: 0.8650\n",
      "Epoch 7/20\n",
      "101/101 [==============================] - 38s 372ms/step - loss: 0.4193 - accuracy: 0.9184 - val_loss: 0.2788 - val_accuracy: 0.8920\n",
      "Epoch 8/20\n",
      "101/101 [==============================] - 36s 356ms/step - loss: 0.3751 - accuracy: 0.9278 - val_loss: 0.2962 - val_accuracy: 0.8822\n",
      "Epoch 9/20\n",
      "101/101 [==============================] - 37s 368ms/step - loss: 0.3446 - accuracy: 0.9349 - val_loss: 0.2958 - val_accuracy: 0.8822\n",
      "Epoch 10/20\n",
      "101/101 [==============================] - 37s 368ms/step - loss: 0.3936 - accuracy: 0.9274 - val_loss: 0.2707 - val_accuracy: 0.8933\n",
      "Epoch 11/20\n",
      "101/101 [==============================] - 37s 362ms/step - loss: 0.3707 - accuracy: 0.9293 - val_loss: 0.2807 - val_accuracy: 0.8969\n",
      "Epoch 12/20\n",
      "101/101 [==============================] - 37s 364ms/step - loss: 0.3876 - accuracy: 0.9321 - val_loss: 0.3279 - val_accuracy: 0.8724\n",
      "Epoch 13/20\n",
      "101/101 [==============================] - 36s 360ms/step - loss: 0.3276 - accuracy: 0.9386 - val_loss: 0.3178 - val_accuracy: 0.8785\n",
      "Epoch 14/20\n",
      "101/101 [==============================] - 37s 363ms/step - loss: 0.3636 - accuracy: 0.9330 - val_loss: 0.3604 - val_accuracy: 0.8589\n",
      "Epoch 15/20\n",
      "101/101 [==============================] - 37s 369ms/step - loss: 0.4084 - accuracy: 0.9256 - val_loss: 0.3175 - val_accuracy: 0.8785\n",
      "Epoch 16/20\n",
      "101/101 [==============================] - 37s 366ms/step - loss: 0.3389 - accuracy: 0.9329 - val_loss: 0.2964 - val_accuracy: 0.8871\n",
      "Epoch 17/20\n",
      "101/101 [==============================] - 37s 370ms/step - loss: 0.3841 - accuracy: 0.9278 - val_loss: 0.3090 - val_accuracy: 0.8736\n",
      "Epoch 18/20\n",
      "101/101 [==============================] - 37s 363ms/step - loss: 0.3897 - accuracy: 0.9243 - val_loss: 0.2273 - val_accuracy: 0.9141\n",
      "Epoch 19/20\n",
      "101/101 [==============================] - 37s 363ms/step - loss: 0.3812 - accuracy: 0.9336 - val_loss: 0.3028 - val_accuracy: 0.8822\n",
      "Epoch 20/20\n",
      "101/101 [==============================] - 37s 365ms/step - loss: 0.3595 - accuracy: 0.9340 - val_loss: 0.2629 - val_accuracy: 0.8982\n"
     ]
    }
   ],
   "source": [
    "#train the saved model again \n",
    "print(\"[INFO] compiling model...\")\n",
    "opt = Adam(lr=INIT_LR, decay=INIT_LR / EPOCHS)\n",
    "model.compile(loss=\"categorical_crossentropy\", optimizer=opt,\n",
    "\tmetrics=[\"accuracy\"])\n",
    "\n",
    "# train the head of the network\n",
    "print(\"[INFO] training head...\")\n",
    "H = model.fit(\n",
    "\taug.flow(trainX, trainY, batch_size=BS),\n",
    "\tsteps_per_epoch=len(trainX) // BS,\n",
    "\tvalidation_data=(testX, testY),\n",
    "\tvalidation_steps=len(testX) // BS,\n",
    "\tepochs=EPOCHS,\n",
    "class_weight = {0:5 , 1:1, 2:10})"
   ]
  },
  {
   "cell_type": "code",
   "execution_count": 94,
   "metadata": {},
   "outputs": [
    {
     "name": "stdout",
     "output_type": "stream",
     "text": [
      "[INFO] evaluating network...\n",
      "              precision    recall  f1-score   support\n",
      "\n",
      "           0       0.72      0.91      0.80       143\n",
      "           1       0.97      0.91      0.94       647\n",
      "           2       0.50      0.52      0.51        25\n",
      "\n",
      "    accuracy                           0.90       815\n",
      "   macro avg       0.73      0.78      0.75       815\n",
      "weighted avg       0.91      0.90      0.90       815\n",
      "\n"
     ]
    },
    {
     "data": {
      "image/png": "[encoded data removed]",
      "text/plain": [
       "<Figure size 432x288 with 1 Axes>"
      ]
     },
     "metadata": {},
     "output_type": "display_data"
    }
   ],
   "source": [
    "#Evaluate the model again\n",
    "print(\"[INFO] evaluating network...\")\n",
    "predIdxs = model.predict(testX, batch_size=32)\n",
    "\n",
    "# for each image in the testing set we need to find the index of the\n",
    "# label with corresponding largest predicted probability\n",
    "predIdxs = np.argmax(predIdxs, axis=1)\n",
    "\n",
    "# show a nicely formatted classification report\n",
    "print(classification_report(testY.argmax(axis=1), predIdxs\n",
    "\t))\n",
    "\n",
    "# # serialize the model to disk\n",
    "# print(\"[INFO] saving mask detector model...\")\n",
    "\n",
    "# plot the training loss and accuracy\n",
    "N = EPOCHS\n",
    "plt.style.use(\"ggplot\")\n",
    "plt.figure()\n",
    "plt.plot(np.arange(0, N), H.history[\"loss\"], label=\"train_loss\")\n",
    "plt.plot(np.arange(0, N), H.history[\"val_loss\"], label=\"val_loss\")\n",
    "plt.plot(np.arange(0, N), H.history[\"accuracy\"], label=\"train_acc\")\n",
    "plt.plot(np.arange(0, N), H.history[\"val_accuracy\"], label=\"val_acc\")\n",
    "plt.title(\"Training Loss and Accuracy\")\n",
    "plt.xlabel(\"Epoch #\")\n",
    "plt.ylabel(\"Loss/Accuracy\")\n",
    "plt.legend(loc=\"lower left\")\n",
    "plt.show()"
   ]
  },
  {
   "cell_type": "markdown",
   "metadata": {},
   "source": [
    "As you can see the performance of the model increased after training again for about 20 epochs(I ran the training cell twice by mistake so in the graph you cannot see that the model has started training from where I left)"
   ]
  },
  {
   "cell_type": "markdown",
   "metadata": {},
   "source": [
    "When testing this model on my webcam, I found it was not much reliable as if you cover your face with hand,it ll show you are wearing the mask. I have made another model but that can only detect if the person is wearing a mask or not.The model works exceptionally well abd better than this model as it cannot be fooled with a hand over mouth.Here is the link to the article [Real time mask detection using OpenCV](https://www.mygreatlearning.com/blog/real-time-face-detection)"
   ]
  },
  {
   "cell_type": "markdown",
   "metadata": {},
   "source": [
    "[Here is a link to the youtube video showing results of this model on webcam stream](https://youtu.be/HFNxRrirj2s)"
   ]
  },
  {
   "cell_type": "markdown",
   "metadata": {},
   "source": []
  }
 ],
 "metadata": {
  "kernelspec": {
   "display_name": "Python 3",
   "language": "python",
   "name": "python3"
  },
  "language_info": {
   "codemirror_mode": {
    "name": "ipython",
    "version": 3
   },
   "file_extension": ".py",
   "mimetype": "text/x-python",
   "name": "python",
   "nbconvert_exporter": "python",
   "pygments_lexer": "ipython3",
   "version": "3.8.3"
  }
 },
 "nbformat": 4,
 "nbformat_minor": 4
}
